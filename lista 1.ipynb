{
  "nbformat": 4,
  "nbformat_minor": 0,
  "metadata": {
    "colab": {
      "provenance": []
    },
    "kernelspec": {
      "name": "python3",
      "display_name": "Python 3"
    },
    "language_info": {
      "name": "python"
    }
  },
  "cells": [
    {
      "cell_type": "code",
      "source": [
        "import re\n",
        "import pandas as pd\n",
        "import matplotlib.pyplot as plt\n",
        "import string\n",
        "import nltk\n",
        "from nltk.tokenize import word_tokenize\n",
        "from nltk.corpus import stopwords\n",
        "from nltk.tag import pos_tag\n",
        "from nltk.stem.lancaster import LancasterStemmer\n",
        "from sklearn.feature_extraction.text import CountVectorizer, TfidfVectorizer\n",
        "from scipy.spatial import distance\n",
        "\n",
        "nltk.download('punkt')\n",
        "nltk.download('stopwords')\n",
        "nltk.download('averaged_perceptron_tagger')\n",
        "nltk.download('tagsets')"
      ],
      "metadata": {
        "id": "scXNA3c7q3Nf",
        "colab": {
          "base_uri": "https://localhost:8080/"
        },
        "outputId": "02e86163-d88a-462d-e544-2e08b5f7bc46"
      },
      "execution_count": null,
      "outputs": [
        {
          "output_type": "stream",
          "name": "stderr",
          "text": [
            "[nltk_data] Downloading package punkt to /root/nltk_data...\n",
            "[nltk_data]   Package punkt is already up-to-date!\n",
            "[nltk_data] Downloading package stopwords to /root/nltk_data...\n",
            "[nltk_data]   Package stopwords is already up-to-date!\n",
            "[nltk_data] Downloading package averaged_perceptron_tagger to\n",
            "[nltk_data]     /root/nltk_data...\n",
            "[nltk_data]   Package averaged_perceptron_tagger is already up-to-\n",
            "[nltk_data]       date!\n",
            "[nltk_data] Downloading package tagsets to /root/nltk_data...\n",
            "[nltk_data]   Package tagsets is already up-to-date!\n"
          ]
        },
        {
          "output_type": "execute_result",
          "data": {
            "text/plain": [
              "True"
            ]
          },
          "metadata": {},
          "execution_count": 20
        }
      ]
    },
    {
      "cell_type": "markdown",
      "source": [
        "## 1. Escreva uma funcão que recebe uma senha como entrada e verifica se ela atende aos seguintes critérios de uma senha forte:\n",
        "## • Pelo menos 8 caracteres\n",
        "## • Pelo menos uma letra maiúscula e uma letra minúscula\n",
        "## • Pelo menos um dígito\n",
        "## • Pelo menos um caractere especial (por exemplo, !@#$%&*)\n",
        "\n",
        "## A funcão deve retornar True se a senha for forte e False caso contrário. Mostre exemplos."
      ],
      "metadata": {
        "id": "WWYzaNZOqcD4"
      }
    },
    {
      "cell_type": "code",
      "source": [
        "def is_strong_password(password):\n",
        "    if len(password) < 8:\n",
        "        return False\n",
        "    if not re.search(r'[A-Z]', password):\n",
        "        return False\n",
        "    if not re.search(r'[a-z]', password):\n",
        "        return False\n",
        "    if not re.search(r'\\d', password):\n",
        "        return False\n",
        "    if not re.search(r'[!@#$%&*]', password):\n",
        "        return False\n",
        "    return True\n",
        "\n",
        "password1 = \"Abcd123!\"\n",
        "password2 = \"senhafraca\"\n",
        "password3 = \"SenhaForte123!\"\n",
        "\n",
        "print(is_strong_password(password1))\n",
        "print(is_strong_password(password2))\n",
        "print(is_strong_password(password3))"
      ],
      "metadata": {
        "id": "FoA6lf1ZmjyP",
        "colab": {
          "base_uri": "https://localhost:8080/"
        },
        "outputId": "6378dc99-56a2-42be-8614-7a2c40d653a8"
      },
      "execution_count": null,
      "outputs": [
        {
          "output_type": "stream",
          "name": "stdout",
          "text": [
            "True\n",
            "False\n",
            "True\n"
          ]
        }
      ]
    },
    {
      "cell_type": "markdown",
      "source": [
        "## 2. Escreva uma função que recebe um endereço de e-mail como entrada e verifica se ele é válido de acordo com as regras básicas de formacão de um e-mail. Utilize expressões regulares para realizar a validação. A função deve retornar True se o endereço de e-mail for válido e False caso contrário Mostre exemplos."
      ],
      "metadata": {
        "id": "uZPkGLCbrDds"
      }
    },
    {
      "cell_type": "code",
      "source": [
        "def is_valid_email(email):\n",
        "  pattern = r'([A-Za-z0-9]+[.-_])*[A-Za-z0-9]+@[A-Za-z0-9-]+(\\.[A-Z|a-z]{2,})+'\n",
        "  regex = re.compile(pattern)\n",
        "  if re.fullmatch(regex, email):\n",
        "      return True\n",
        "  return False\n",
        "\n",
        "\n",
        "print(is_valid_email(\"test.email@gmail.com\"))\n",
        "print(is_valid_email(\".....@hotmail.com\"))\n",
        "print(is_valid_email(\"email@test.com.br\"))\n",
        "print(is_valid_email(\"a123\"))\n",
        "print(is_valid_email(\"test@t..\"))"
      ],
      "metadata": {
        "colab": {
          "base_uri": "https://localhost:8080/"
        },
        "id": "hu6KtniTrP89",
        "outputId": "c8b9ef95-494e-4b83-b5c0-3d25eba167fc"
      },
      "execution_count": null,
      "outputs": [
        {
          "output_type": "stream",
          "name": "stdout",
          "text": [
            "True\n",
            "False\n",
            "True\n",
            "False\n",
            "False\n"
          ]
        }
      ]
    },
    {
      "cell_type": "markdown",
      "source": [
        "#3. Considere o seguinte exemplo de referência de livro em formato de citação APA:\n",
        "\n",
        "## Manning, C. D., Manning, C. D., & Schutze, H. (1999). Foundations of\n",
        "## statistical natural language processing. MIT press.\n",
        "\n",
        "## Implemente uma função usando expressões regulares que extraia cada autor, ano de publicacão, título e editora do livro, para qualquer referência de livro neste formato."
      ],
      "metadata": {
        "id": "lyob3LwwwH8Q"
      }
    },
    {
      "cell_type": "code",
      "source": [
        "def extract_book_info(reference):\n",
        "    pattern = r'^([\\w\\s.,&]+),\\s([\\w\\s.,&]+),\\s&\\s([\\w\\s.,&]+)\\s\\((\\d{4})\\)\\.\\s(.+)\\.\\s([\\w\\s.,&]+)\\.$'\n",
        "    match = re.match(pattern, reference)\n",
        "    if match:\n",
        "        author1, author2, author3, year, title, publisher = match.groups()\n",
        "        return {\n",
        "            'Autor 1': author1,\n",
        "            'Autor 2': author2,\n",
        "            'Autor 3': author3,\n",
        "            'Ano': year,\n",
        "            'Título': title,\n",
        "            'Editora': publisher\n",
        "        }\n",
        "    return None\n",
        "\n",
        "reference = \"Manning, C. D., Manning, C. D., & Schutze, H. (1999). Foundations of statistical natural language processing. MIT press.\"\n",
        "book_info = extract_book_info(reference)\n",
        "print(book_info)"
      ],
      "metadata": {
        "colab": {
          "base_uri": "https://localhost:8080/"
        },
        "id": "M5HVkXSDu7To",
        "outputId": "28327e4b-cac9-4aae-b7e4-e05cfed246cf"
      },
      "execution_count": null,
      "outputs": [
        {
          "output_type": "stream",
          "name": "stdout",
          "text": [
            "{'Autor 1': 'Manning, C. D., Manning', 'Autor 2': 'C. D.', 'Autor 3': 'Schutze, H.', 'Ano': '1999', 'Título': 'Foundations of statistical natural language processing', 'Editora': 'MIT press'}\n"
          ]
        }
      ]
    },
    {
      "cell_type": "markdown",
      "source": [
        "## 4. Usando sua base de textos, determine a distribuição de comprimentos dos textos (em quantidade de caracteres), listando estas quantidades e plotando um histograma."
      ],
      "metadata": {
        "id": "0jvzlXLo22D_"
      }
    },
    {
      "cell_type": "code",
      "source": [
        "dataset_url = \"https://gist.githubusercontent.com/igorrochap/0aa66215571702e2f27a45645ec874c0/raw/1ef0f6967857f6b5fcffea8e41faab9984a4e529/imdb_reviews.csv\"\n",
        "df = pd.read_csv(dataset_url)\n",
        "reviews = df[\"review\"]\n",
        "\n",
        "text_lengths = [len(texto) for texto in reviews]\n",
        "\n",
        "print(text_lengths)\n",
        "\n",
        "plt.hist(text_lengths, bins=100)\n",
        "plt.show()"
      ],
      "metadata": {
        "colab": {
          "base_uri": "https://localhost:8080/",
          "height": 470
        },
        "id": "MPVi4Trk23yo",
        "outputId": "b3bfc120-6def-472f-bac6-05b18e49a58a"
      },
      "execution_count": null,
      "outputs": [
        {
          "output_type": "stream",
          "name": "stdout",
          "text": [
            "[1761, 998, 926, 748, 1317, 656, 726, 934, 681, 176, 578, 937, 2227, 662, 275, 830, 720, 1322, 639, 741, 1813, 1020, 346, 1767, 808, 680, 3149, 836, 665, 3791, 2568, 2250, 602, 4009, 1300, 2035, 494, 1761, 604, 1485, 678, 1304, 937, 1625, 906, 1273, 434, 851, 3975, 598, 2411, 3371, 956, 429, 1220, 1226, 1176, 916, 3042, 2551, 922, 895, 510, 267, 1052, 1716, 1994, 720, 1143, 1702, 1249, 1560, 1408, 972, 1614, 793, 1699, 3375, 825, 1655, 897, 816, 1424, 2408, 402, 767, 1671, 724, 1084, 2041, 964, 1044, 2253, 1076, 847, 1565, 1086, 758, 993, 2866, 793, 4184, 766, 1958, 1029, 1229, 630, 1642, 1038, 636, 814, 1136, 226, 535, 1559, 762, 2073, 465, 512, 1524, 626, 951, 1261, 807, 771, 684, 2351, 754, 1048, 682, 1144, 2457, 905, 723, 1056, 2291, 623, 1426, 1659, 1489, 2267, 1730, 3118, 454, 1507, 1626, 1203, 1824, 766, 1683, 1011, 998, 1127, 1199, 1055, 486, 5254, 796, 777, 654, 287, 1124, 351, 2870, 2104, 419, 688, 1338, 615, 2028, 1382, 848, 3622, 2275, 1591, 1569, 1304, 4756, 1126, 1265, 806, 676, 3146, 1545, 401, 1554, 3006, 572, 1118, 2917, 1924, 4467, 637, 273, 723, 1002, 1180, 971, 2823, 653, 652, 1359, 1856, 355, 992, 561, 645, 748, 760, 343, 3099, 285, 713, 463, 795, 1768, 1488, 641, 2506, 892, 583, 1307, 1755, 1675, 1558, 1352, 1635, 1040, 3845, 835, 364, 295, 725, 463, 843, 745, 368, 751, 1548, 1066, 702, 712, 671, 849, 850, 222, 1133, 749, 904, 731, 817, 1188, 2013, 1889, 2708, 2065, 684, 2469, 2706, 1203, 2570, 770, 1413, 5101, 636, 817, 990, 3239, 836, 715, 1248, 872, 1978, 2158, 1022, 792, 3774, 2001, 914, 377, 1490, 592, 828, 941, 1145, 683, 1764, 543, 1904, 714, 901, 563, 806, 1062, 710, 2570, 739, 3271, 1428, 711, 913, 836, 637, 1499, 1250, 575, 1635, 745, 497, 690, 5862, 507, 643, 396, 2284, 1554, 810, 435, 1140, 2056, 5552, 410, 4086, 720, 310, 1355, 619, 1406, 915, 299, 580, 387, 2693, 780, 847, 719, 277, 920, 3239, 834, 632, 726, 781, 2101, 1609, 1931, 1037, 441, 783, 2119]\n"
          ]
        },
        {
          "output_type": "display_data",
          "data": {
            "text/plain": [
              "<Figure size 640x480 with 1 Axes>"
            ],
            "image/png": "[encoded data removed]"
          },
          "metadata": {}
        }
      ]
    },
    {
      "cell_type": "markdown",
      "source": [
        "## 5. Aplique os seguintes passos de pré-processamento aos textos:\n",
        "## • Remova todas as palavras que contêm números;\n",
        "## • Converta as palavras para minúsculas;\n",
        "## • Remova pontuação;\n",
        "## • Tokenize os textos em palavras, gerando um dicionário único com n tokens e convertendo cada texto em um vetor de dimensão n com a respectiva contagem de palavras.\n",
        "## Em seguida, encontre as 10 palavras mais frequentes da base de textos."
      ],
      "metadata": {
        "id": "HIvzsl9173iQ"
      }
    },
    {
      "cell_type": "code",
      "source": [
        "def remove_html_tags(text):\n",
        "  regex = re.compile(r'<.*?>')\n",
        "  return regex.sub(\"\", text)\n",
        "\n",
        "def remove_digits(text):\n",
        "  regex = re.compile(r'\\w*\\d\\w*')\n",
        "  return regex.sub(\"\", text)\n",
        "\n",
        "def remove_punctuation(text):\n",
        "  regex = re.compile('[%s]' % re.escape(string.punctuation))\n",
        "  return regex.sub(\"\", text)\n",
        "\n",
        "def tokenize(text):\n",
        "  tokens = word_tokenize(text)\n",
        "  return tokens\n",
        "\n",
        "def get_word_count(tokens):\n",
        "  unique_tokens = list(dict.fromkeys(tokens))\n",
        "  token_count = {}\n",
        "  for token in unique_tokens:\n",
        "    count = tokens.count(token)\n",
        "    token_count.update({token: count})\n",
        "  return token_count\n",
        "\n",
        "def find_10_most_used_words(texts_word_count):\n",
        "  full_count = {}\n",
        "  for tokens in texts_word_count:\n",
        "    for token, count in tokens.items():\n",
        "      if token in full_count:\n",
        "        full_count[token] = count + full_count[token]\n",
        "        continue\n",
        "      full_count[token] = count\n",
        "  full_count = sorted(full_count.items(), key = lambda x:x[1], reverse = True)\n",
        "  return full_count[:10]\n",
        "\n",
        "texts_word_count = []\n",
        "\n",
        "for review in reviews:\n",
        "  review = remove_html_tags(review)\n",
        "  review = remove_digits(review)\n",
        "  review = review.lower()\n",
        "  review = remove_punctuation(review)\n",
        "  tokens = tokenize(review)\n",
        "  texts_word_count.append(get_word_count(tokens))\n",
        "\n",
        "most_used_words = find_10_most_used_words(texts_word_count)\n",
        "print(most_used_words)"
      ],
      "metadata": {
        "colab": {
          "base_uri": "https://localhost:8080/"
        },
        "id": "fh9JmKXO8MmB",
        "outputId": "e1a93757-a488-4eab-d185-b17c1f354bf5"
      },
      "execution_count": null,
      "outputs": [
        {
          "output_type": "stream",
          "name": "stdout",
          "text": [
            "[('the', 4529), ('and', 2315), ('a', 2252), ('of', 2087), ('to', 1831), ('is', 1417), ('in', 1242), ('this', 1004), ('i', 982), ('it', 945)]\n"
          ]
        }
      ]
    },
    {
      "cell_type": "markdown",
      "source": [
        "## 6. Aplique os seguintes passos de pré-processamento aos textos processados na questão anterior:\n",
        "\n",
        "## • Remova stopwords;\n",
        "## • Realize rotulação de POS;\n",
        "## • Realize stemização;"
      ],
      "metadata": {
        "id": "UGTANj0Mc0Lx"
      }
    },
    {
      "cell_type": "code",
      "source": [
        "def remove_stopwords(tokens):\n",
        "  stopwords_list = stopwords.words('english')\n",
        "  tokens = [token for token in tokens if token not in stopwords_list]\n",
        "  return tokens\n",
        "\n",
        "def stemming(tokens):\n",
        "  stemmer = LancasterStemmer()\n",
        "  stems = []\n",
        "  for token in tokens:\n",
        "    stems.append(stemmer.stem(token))\n",
        "  return stems\n",
        "\n",
        "texts_word_count = []\n",
        "texts_tags = []\n",
        "texts_stems = []\n",
        "texts_tokens = []\n",
        "for review in reviews:\n",
        "  review = remove_html_tags(review)\n",
        "  review = remove_digits(review)\n",
        "  review = review.lower()\n",
        "  review = remove_punctuation(review)\n",
        "  tokens = tokenize(review)\n",
        "  tokens = remove_stopwords(tokens)\n",
        "\n",
        "  texts_word_count.append(get_word_count(tokens))\n",
        "  texts_tags.append(pos_tag(tokens))\n",
        "  texts_stems.append(stemming(tokens))\n",
        "  texts_tokens.append(tokens)"
      ],
      "metadata": {
        "id": "GmUyGTlxd934"
      },
      "execution_count": null,
      "outputs": []
    },
    {
      "cell_type": "markdown",
      "source": [
        "## a) Exiba os resultados em alguns textos."
      ],
      "metadata": {
        "id": "IJWbkNpNdAso"
      }
    },
    {
      "cell_type": "code",
      "source": [
        "print(\"##### WITHOUT STOP WORDS #####\\n\")\n",
        "for i in range(10):\n",
        "  print(texts_tokens[i], \"\\n\");\n",
        "\n",
        "print(\"##### TAGS #####\\n\")\n",
        "for i in range(10):\n",
        "  print(texts_tags[i], \"\\n\");\n",
        "\n",
        "print(\"##### STEMMING #####\\n\")\n",
        "for i in range(10):\n",
        "  print(texts_stems[i], \"\\n\");"
      ],
      "metadata": {
        "colab": {
          "base_uri": "https://localhost:8080/"
        },
        "id": "T6_fh1E7qlnb",
        "outputId": "a8cd5439-a0c6-4afe-ccf3-03c2829581b9"
      },
      "execution_count": null,
      "outputs": [
        {
          "output_type": "stream",
          "name": "stdout",
          "text": [
            "##### WITHOUT STOP WORDS #####\n",
            "\n",
            "['one', 'reviewers', 'mentioned', 'watching', 'oz', 'episode', 'youll', 'hooked', 'right', 'exactly', 'happened', 'methe', 'first', 'thing', 'struck', 'oz', 'brutality', 'unflinching', 'scenes', 'violence', 'set', 'right', 'word', 'go', 'trust', 'show', 'faint', 'hearted', 'timid', 'show', 'pulls', 'punches', 'regards', 'drugs', 'sex', 'violence', 'hardcore', 'classic', 'use', 'wordit', 'called', 'oz', 'nickname', 'given', 'oswald', 'maximum', 'security', 'state', 'penitentary', 'focuses', 'mainly', 'emerald', 'city', 'experimental', 'section', 'prison', 'cells', 'glass', 'fronts', 'face', 'inwards', 'privacy', 'high', 'agenda', 'em', 'city', 'home', 'manyaryans', 'muslims', 'gangstas', 'latinos', 'christians', 'italians', 'irish', 'moreso', 'scuffles', 'death', 'stares', 'dodgy', 'dealings', 'shady', 'agreements', 'never', 'far', 'awayi', 'would', 'say', 'main', 'appeal', 'show', 'due', 'fact', 'goes', 'shows', 'wouldnt', 'dare', 'forget', 'pretty', 'pictures', 'painted', 'mainstream', 'audiences', 'forget', 'charm', 'forget', 'romanceoz', 'doesnt', 'mess', 'around', 'first', 'episode', 'ever', 'saw', 'struck', 'nasty', 'surreal', 'couldnt', 'say', 'ready', 'watched', 'developed', 'taste', 'oz', 'got', 'accustomed', 'high', 'levels', 'graphic', 'violence', 'violence', 'injustice', 'crooked', 'guards', 'wholl', 'sold', 'nickel', 'inmates', 'wholl', 'kill', 'order', 'get', 'away', 'well', 'mannered', 'middle', 'class', 'inmates', 'turned', 'prison', 'bitches', 'due', 'lack', 'street', 'skills', 'prison', 'experience', 'watching', 'oz', 'may', 'become', 'comfortable', 'uncomfortable', 'viewingthats', 'get', 'touch', 'darker', 'side'] \n",
            "\n",
            "['wonderful', 'little', 'production', 'filming', 'technique', 'unassuming', 'oldtimebbc', 'fashion', 'gives', 'comforting', 'sometimes', 'discomforting', 'sense', 'realism', 'entire', 'piece', 'actors', 'extremely', 'well', 'chosen', 'michael', 'sheen', 'got', 'polari', 'voices', 'pat', 'truly', 'see', 'seamless', 'editing', 'guided', 'references', 'williams', 'diary', 'entries', 'well', 'worth', 'watching', 'terrificly', 'written', 'performed', 'piece', 'masterful', 'production', 'one', 'great', 'masters', 'comedy', 'life', 'realism', 'really', 'comes', 'home', 'little', 'things', 'fantasy', 'guard', 'rather', 'use', 'traditional', 'dream', 'techniques', 'remains', 'solid', 'disappears', 'plays', 'knowledge', 'senses', 'particularly', 'scenes', 'concerning', 'orton', 'halliwell', 'sets', 'particularly', 'flat', 'halliwells', 'murals', 'decorating', 'every', 'surface', 'terribly', 'well', 'done'] \n",
            "\n",
            "['thought', 'wonderful', 'way', 'spend', 'time', 'hot', 'summer', 'weekend', 'sitting', 'air', 'conditioned', 'theater', 'watching', 'lighthearted', 'comedy', 'plot', 'simplistic', 'dialogue', 'witty', 'characters', 'likable', 'even', 'well', 'bread', 'suspected', 'serial', 'killer', 'may', 'disappointed', 'realize', 'match', 'point', 'risk', 'addiction', 'thought', 'proof', 'woody', 'allen', 'still', 'fully', 'control', 'style', 'many', 'us', 'grown', 'lovethis', 'id', 'laughed', 'one', 'woodys', 'comedies', 'years', 'dare', 'say', 'decade', 'ive', 'never', 'impressed', 'scarlet', 'johanson', 'managed', 'tone', 'sexy', 'image', 'jumped', 'right', 'average', 'spirited', 'young', 'womanthis', 'may', 'crown', 'jewel', 'career', 'wittier', 'devil', 'wears', 'prada', 'interesting', 'superman', 'great', 'comedy', 'go', 'see', 'friends'] \n",
            "\n",
            "['basically', 'theres', 'family', 'little', 'boy', 'jake', 'thinks', 'theres', 'zombie', 'closet', 'parents', 'fighting', 'timethis', 'movie', 'slower', 'soap', 'opera', 'suddenly', 'jake', 'decides', 'become', 'rambo', 'kill', 'zombieok', 'first', 'youre', 'going', 'make', 'film', 'must', 'decide', 'thriller', 'drama', 'drama', 'movie', 'watchable', 'parents', 'divorcing', 'arguing', 'like', 'real', 'life', 'jake', 'closet', 'totally', 'ruins', 'film', 'expected', 'see', 'boogeyman', 'similar', 'movie', 'instead', 'watched', 'drama', 'meaningless', 'thriller', 'spots', 'well', 'playing', 'parents', 'descent', 'dialogs', 'shots', 'jake', 'ignore'] \n",
            "\n",
            "['petter', 'matteis', 'love', 'time', 'money', 'visually', 'stunning', 'film', 'watch', 'mr', 'mattei', 'offers', 'us', 'vivid', 'portrait', 'human', 'relations', 'movie', 'seems', 'telling', 'us', 'money', 'power', 'success', 'people', 'different', 'situations', 'encounter', 'variation', 'arthur', 'schnitzlers', 'play', 'theme', 'director', 'transfers', 'action', 'present', 'time', 'new', 'york', 'different', 'characters', 'meet', 'connect', 'one', 'connected', 'one', 'way', 'another', 'next', 'person', 'one', 'seems', 'know', 'previous', 'point', 'contact', 'stylishly', 'film', 'sophisticated', 'luxurious', 'look', 'taken', 'see', 'people', 'live', 'world', 'live', 'habitatthe', 'thing', 'one', 'gets', 'souls', 'picture', 'different', 'stages', 'loneliness', 'one', 'inhabits', 'big', 'city', 'exactly', 'best', 'place', 'human', 'relations', 'find', 'sincere', 'fulfillment', 'one', 'discerns', 'case', 'people', 'encounterthe', 'acting', 'good', 'mr', 'matteis', 'direction', 'steve', 'buscemi', 'rosario', 'dawson', 'carol', 'kane', 'michael', 'imperioli', 'adrian', 'grenier', 'rest', 'talented', 'cast', 'make', 'characters', 'come', 'alivewe', 'wish', 'mr', 'mattei', 'good', 'luck', 'await', 'anxiously', 'next', 'work'] \n",
            "\n",
            "['probably', 'alltime', 'favorite', 'movie', 'story', 'selflessness', 'sacrifice', 'dedication', 'noble', 'cause', 'preachy', 'boring', 'never', 'gets', 'old', 'despite', 'seen', 'times', 'last', 'years', 'paul', 'lukas', 'performance', 'brings', 'tears', 'eyes', 'bette', 'davis', 'one', 'truly', 'sympathetic', 'roles', 'delight', 'kids', 'grandma', 'says', 'like', 'dressedup', 'midgets', 'children', 'makes', 'fun', 'watch', 'mothers', 'slow', 'awakening', 'whats', 'happening', 'world', 'roof', 'believable', 'startling', 'dozen', 'thumbs', 'theyd', 'movie'] \n",
            "\n",
            "['sure', 'would', 'like', 'see', 'resurrection', 'dated', 'seahunt', 'series', 'tech', 'today', 'would', 'bring', 'back', 'kid', 'excitement', 'mei', 'grew', 'black', 'white', 'tv', 'seahunt', 'gunsmoke', 'heros', 'every', 'weekyou', 'vote', 'comeback', 'new', 'sea', 'huntwe', 'need', 'change', 'pace', 'tv', 'would', 'work', 'world', 'water', 'adventureoh', 'way', 'thank', 'outlet', 'like', 'view', 'many', 'viewpoints', 'tv', 'many', 'moviesso', 'ole', 'way', 'believe', 'ive', 'got', 'wan', 'na', 'saywould', 'nice', 'read', 'plus', 'points', 'sea', 'huntif', 'rhymes', 'would', 'lines', 'would', 'let', 'submitor', 'leave', 'doubt', 'quitif', 'must', 'go', 'lets'] \n",
            "\n",
            "['show', 'amazing', 'fresh', 'innovative', 'idea', 'first', 'aired', 'first', 'years', 'brilliant', 'things', 'dropped', 'show', 'really', 'funny', 'anymore', 'continued', 'decline', 'complete', 'waste', 'time', 'todayits', 'truly', 'disgraceful', 'far', 'show', 'fallen', 'writing', 'painfully', 'bad', 'performances', 'almost', 'bad', 'mildly', 'entertaining', 'respite', 'guesthosts', 'show', 'probably', 'wouldnt', 'still', 'air', 'find', 'hard', 'believe', 'creator', 'handselected', 'original', 'cast', 'also', 'chose', 'band', 'hacks', 'followed', 'one', 'recognize', 'brilliance', 'see', 'fit', 'replace', 'mediocrity', 'felt', 'must', 'give', 'stars', 'respect', 'original', 'cast', 'made', 'show', 'huge', 'success', 'show', 'awful', 'cant', 'believe', 'still', 'air'] \n",
            "\n",
            "['encouraged', 'positive', 'comments', 'film', 'looking', 'forward', 'watching', 'film', 'bad', 'mistake', 'ive', 'seen', 'films', 'truly', 'one', 'worst', 'awful', 'almost', 'every', 'way', 'editing', 'pacing', 'storyline', 'acting', 'soundtrack', 'films', 'song', 'lame', 'country', 'tune', 'played', 'less', 'four', 'times', 'film', 'looks', 'cheap', 'nasty', 'boring', 'extreme', 'rarely', 'happy', 'see', 'end', 'credits', 'film', 'thing', 'prevents', 'giving', 'score', 'harvey', 'keitel', 'far', 'best', 'performance', 'least', 'seems', 'making', 'bit', 'effort', 'one', 'keitel', 'obsessives'] \n",
            "\n",
            "['like', 'original', 'gut', 'wrenching', 'laughter', 'like', 'movie', 'young', 'old', 'love', 'movie', 'hell', 'even', 'mom', 'liked', 'itgreat', 'camp'] \n",
            "\n",
            "##### TAGS #####\n",
            "\n",
            "[('one', 'CD'), ('reviewers', 'NNS'), ('mentioned', 'VBD'), ('watching', 'VBG'), ('oz', 'JJ'), ('episode', 'NN'), ('youll', 'NN'), ('hooked', 'VBD'), ('right', 'RB'), ('exactly', 'RB'), ('happened', 'VBD'), ('methe', 'NNS'), ('first', 'JJ'), ('thing', 'NN'), ('struck', 'VBD'), ('oz', 'JJ'), ('brutality', 'NN'), ('unflinching', 'VBG'), ('scenes', 'NNS'), ('violence', 'NN'), ('set', 'VBN'), ('right', 'RB'), ('word', 'NN'), ('go', 'VB'), ('trust', 'NN'), ('show', 'NN'), ('faint', 'NN'), ('hearted', 'VBD'), ('timid', 'JJ'), ('show', 'NN'), ('pulls', 'VBZ'), ('punches', 'NNS'), ('regards', 'NNS'), ('drugs', 'NNS'), ('sex', 'NN'), ('violence', 'NN'), ('hardcore', 'NN'), ('classic', 'JJ'), ('use', 'NN'), ('wordit', 'NN'), ('called', 'VBN'), ('oz', 'NN'), ('nickname', 'NN'), ('given', 'VBN'), ('oswald', 'JJ'), ('maximum', 'JJ'), ('security', 'NN'), ('state', 'NN'), ('penitentary', 'JJ'), ('focuses', 'NNS'), ('mainly', 'RB'), ('emerald', 'VBP'), ('city', 'NN'), ('experimental', 'JJ'), ('section', 'NN'), ('prison', 'NN'), ('cells', 'NNS'), ('glass', 'NN'), ('fronts', 'NNS'), ('face', 'VBP'), ('inwards', 'NNS'), ('privacy', 'VBP'), ('high', 'JJ'), ('agenda', 'NN'), ('em', 'VBP'), ('city', 'NN'), ('home', 'NN'), ('manyaryans', 'NNS'), ('muslims', 'VBP'), ('gangstas', 'NNS'), ('latinos', 'NNS'), ('christians', 'NNS'), ('italians', 'NNS'), ('irish', 'JJ'), ('moreso', 'NN'), ('scuffles', 'NNS'), ('death', 'NN'), ('stares', 'NNS'), ('dodgy', 'VBP'), ('dealings', 'NNS'), ('shady', 'JJ'), ('agreements', 'NNS'), ('never', 'RB'), ('far', 'RB'), ('awayi', 'JJ'), ('would', 'MD'), ('say', 'VB'), ('main', 'JJ'), ('appeal', 'NN'), ('show', 'NN'), ('due', 'JJ'), ('fact', 'NN'), ('goes', 'VBZ'), ('shows', 'VBZ'), ('wouldnt', 'NN'), ('dare', 'NN'), ('forget', 'VB'), ('pretty', 'JJ'), ('pictures', 'NNS'), ('painted', 'VBN'), ('mainstream', 'JJ'), ('audiences', 'NNS'), ('forget', 'VBP'), ('charm', 'JJ'), ('forget', 'NN'), ('romanceoz', 'NN'), ('doesnt', 'NN'), ('mess', 'NN'), ('around', 'IN'), ('first', 'JJ'), ('episode', 'NN'), ('ever', 'RB'), ('saw', 'VBD'), ('struck', 'JJ'), ('nasty', 'JJ'), ('surreal', 'NN'), ('couldnt', 'NNS'), ('say', 'VBP'), ('ready', 'JJ'), ('watched', 'VBN'), ('developed', 'JJ'), ('taste', 'NN'), ('oz', 'NN'), ('got', 'VBD'), ('accustomed', 'JJ'), ('high', 'JJ'), ('levels', 'NNS'), ('graphic', 'JJ'), ('violence', 'NN'), ('violence', 'NN'), ('injustice', 'NN'), ('crooked', 'VBD'), ('guards', 'NNS'), ('wholl', 'NN'), ('sold', 'VBN'), ('nickel', 'RB'), ('inmates', 'VBZ'), ('wholl', 'NN'), ('kill', 'NN'), ('order', 'NN'), ('get', 'VB'), ('away', 'RB'), ('well', 'RB'), ('mannered', 'JJ'), ('middle', 'JJ'), ('class', 'NN'), ('inmates', 'NNS'), ('turned', 'VBD'), ('prison', 'NN'), ('bitches', 'NNS'), ('due', 'JJ'), ('lack', 'VBP'), ('street', 'NN'), ('skills', 'NNS'), ('prison', 'VBP'), ('experience', 'NN'), ('watching', 'VBG'), ('oz', 'NN'), ('may', 'MD'), ('become', 'VB'), ('comfortable', 'JJ'), ('uncomfortable', 'JJ'), ('viewingthats', 'NNS'), ('get', 'VBP'), ('touch', 'JJ'), ('darker', 'NN'), ('side', 'NN')] \n",
            "\n",
            "[('wonderful', 'JJ'), ('little', 'JJ'), ('production', 'NN'), ('filming', 'VBG'), ('technique', 'NN'), ('unassuming', 'JJ'), ('oldtimebbc', 'JJ'), ('fashion', 'NN'), ('gives', 'VBZ'), ('comforting', 'VBG'), ('sometimes', 'RB'), ('discomforting', 'VBG'), ('sense', 'NN'), ('realism', 'NN'), ('entire', 'JJ'), ('piece', 'NN'), ('actors', 'NNS'), ('extremely', 'RB'), ('well', 'RB'), ('chosen', 'VBN'), ('michael', 'NN'), ('sheen', 'NN'), ('got', 'VBD'), ('polari', 'JJ'), ('voices', 'NNS'), ('pat', 'VBP'), ('truly', 'RB'), ('see', 'JJ'), ('seamless', 'JJ'), ('editing', 'VBG'), ('guided', 'JJ'), ('references', 'NNS'), ('williams', 'VBP'), ('diary', 'JJ'), ('entries', 'NNS'), ('well', 'RB'), ('worth', 'IN'), ('watching', 'VBG'), ('terrificly', 'JJ'), ('written', 'VBN'), ('performed', 'VBN'), ('piece', 'JJ'), ('masterful', 'JJ'), ('production', 'NN'), ('one', 'CD'), ('great', 'JJ'), ('masters', 'NNS'), ('comedy', 'VBP'), ('life', 'NN'), ('realism', 'NN'), ('really', 'RB'), ('comes', 'VBZ'), ('home', 'NN'), ('little', 'JJ'), ('things', 'NNS'), ('fantasy', 'VBP'), ('guard', 'RB'), ('rather', 'RB'), ('use', 'JJ'), ('traditional', 'JJ'), ('dream', 'NN'), ('techniques', 'NNS'), ('remains', 'VBZ'), ('solid', 'JJ'), ('disappears', 'NNS'), ('plays', 'VBZ'), ('knowledge', 'VBP'), ('senses', 'NNS'), ('particularly', 'RB'), ('scenes', 'NNS'), ('concerning', 'VBG'), ('orton', 'NN'), ('halliwell', 'NN'), ('sets', 'VBZ'), ('particularly', 'RB'), ('flat', 'JJ'), ('halliwells', 'NNS'), ('murals', 'NNS'), ('decorating', 'VBG'), ('every', 'DT'), ('surface', 'NN'), ('terribly', 'RB'), ('well', 'RB'), ('done', 'VBN')] \n",
            "\n",
            "[('thought', 'VBN'), ('wonderful', 'JJ'), ('way', 'NN'), ('spend', 'JJ'), ('time', 'NN'), ('hot', 'JJ'), ('summer', 'NN'), ('weekend', 'NN'), ('sitting', 'VBG'), ('air', 'NN'), ('conditioned', 'VBN'), ('theater', 'NN'), ('watching', 'VBG'), ('lighthearted', 'JJ'), ('comedy', 'NN'), ('plot', 'NN'), ('simplistic', 'JJ'), ('dialogue', 'NN'), ('witty', 'NN'), ('characters', 'NNS'), ('likable', 'JJ'), ('even', 'RB'), ('well', 'RB'), ('bread', 'RB'), ('suspected', 'VBN'), ('serial', 'JJ'), ('killer', 'NN'), ('may', 'MD'), ('disappointed', 'VB'), ('realize', 'VB'), ('match', 'NN'), ('point', 'NN'), ('risk', 'NN'), ('addiction', 'NN'), ('thought', 'VBD'), ('proof', 'NN'), ('woody', 'NN'), ('allen', 'NN'), ('still', 'RB'), ('fully', 'RB'), ('control', 'VB'), ('style', 'NN'), ('many', 'JJ'), ('us', 'PRP'), ('grown', 'VBP'), ('lovethis', 'JJ'), ('id', 'NN'), ('laughed', 'VBD'), ('one', 'CD'), ('woodys', 'NN'), ('comedies', 'NNS'), ('years', 'NNS'), ('dare', 'VBP'), ('say', 'VB'), ('decade', 'NN'), ('ive', 'JJ'), ('never', 'RB'), ('impressed', 'JJ'), ('scarlet', 'NN'), ('johanson', 'NN'), ('managed', 'VBD'), ('tone', 'NN'), ('sexy', 'NN'), ('image', 'NN'), ('jumped', 'VBD'), ('right', 'JJ'), ('average', 'NN'), ('spirited', 'VBD'), ('young', 'JJ'), ('womanthis', 'NN'), ('may', 'MD'), ('crown', 'VB'), ('jewel', 'NN'), ('career', 'NN'), ('wittier', 'JJR'), ('devil', 'JJ'), ('wears', 'NNS'), ('prada', 'VBP'), ('interesting', 'VBG'), ('superman', 'NN'), ('great', 'JJ'), ('comedy', 'NN'), ('go', 'VBP'), ('see', 'VB'), ('friends', 'NNS')] \n",
            "\n",
            "[('basically', 'RB'), ('theres', 'NNS'), ('family', 'NN'), ('little', 'JJ'), ('boy', 'JJ'), ('jake', 'NN'), ('thinks', 'NNS'), ('theres', 'VBZ'), ('zombie', 'JJ'), ('closet', 'NN'), ('parents', 'NNS'), ('fighting', 'VBG'), ('timethis', 'JJ'), ('movie', 'NN'), ('slower', 'JJR'), ('soap', 'NN'), ('opera', 'NN'), ('suddenly', 'RB'), ('jake', 'VBZ'), ('decides', 'NNS'), ('become', 'VBP'), ('rambo', 'JJ'), ('kill', 'NN'), ('zombieok', 'NNP'), ('first', 'JJ'), ('youre', 'NN'), ('going', 'VBG'), ('make', 'VBP'), ('film', 'NN'), ('must', 'MD'), ('decide', 'VB'), ('thriller', 'NN'), ('drama', 'NN'), ('drama', 'NN'), ('movie', 'NN'), ('watchable', 'JJ'), ('parents', 'NNS'), ('divorcing', 'VBG'), ('arguing', 'VBG'), ('like', 'IN'), ('real', 'JJ'), ('life', 'NN'), ('jake', 'NN'), ('closet', 'NN'), ('totally', 'RB'), ('ruins', 'VBZ'), ('film', 'NN'), ('expected', 'VBN'), ('see', 'VBP'), ('boogeyman', 'JJ'), ('similar', 'JJ'), ('movie', 'NN'), ('instead', 'RB'), ('watched', 'VBD'), ('drama', 'NN'), ('meaningless', 'NN'), ('thriller', 'NN'), ('spots', 'NNS'), ('well', 'RB'), ('playing', 'VBG'), ('parents', 'NNS'), ('descent', 'JJ'), ('dialogs', 'NNS'), ('shots', 'NNS'), ('jake', 'VBP'), ('ignore', 'NN')] \n",
            "\n",
            "[('petter', 'NN'), ('matteis', 'RBS'), ('love', 'JJ'), ('time', 'NN'), ('money', 'NN'), ('visually', 'RB'), ('stunning', 'JJ'), ('film', 'NN'), ('watch', 'NN'), ('mr', 'NN'), ('mattei', 'NN'), ('offers', 'VBZ'), ('us', 'PRP'), ('vivid', 'JJ'), ('portrait', 'NN'), ('human', 'JJ'), ('relations', 'NNS'), ('movie', 'NN'), ('seems', 'VBZ'), ('telling', 'VBG'), ('us', 'PRP'), ('money', 'NN'), ('power', 'NN'), ('success', 'NN'), ('people', 'NNS'), ('different', 'JJ'), ('situations', 'NNS'), ('encounter', 'VBP'), ('variation', 'NN'), ('arthur', 'NN'), ('schnitzlers', 'NNS'), ('play', 'VBP'), ('theme', 'JJ'), ('director', 'NN'), ('transfers', 'NNS'), ('action', 'NN'), ('present', 'JJ'), ('time', 'NN'), ('new', 'JJ'), ('york', 'NN'), ('different', 'JJ'), ('characters', 'NNS'), ('meet', 'VBP'), ('connect', 'JJ'), ('one', 'CD'), ('connected', 'VBD'), ('one', 'CD'), ('way', 'NN'), ('another', 'DT'), ('next', 'JJ'), ('person', 'NN'), ('one', 'CD'), ('seems', 'VBZ'), ('know', 'VBP'), ('previous', 'JJ'), ('point', 'NN'), ('contact', 'NN'), ('stylishly', 'RB'), ('film', 'NN'), ('sophisticated', 'VBD'), ('luxurious', 'JJ'), ('look', 'NN'), ('taken', 'VBN'), ('see', 'VBP'), ('people', 'NNS'), ('live', 'VBP'), ('world', 'NN'), ('live', 'VBP'), ('habitatthe', 'JJ'), ('thing', 'NN'), ('one', 'CD'), ('gets', 'VBZ'), ('souls', 'JJ'), ('picture', 'NN'), ('different', 'JJ'), ('stages', 'NNS'), ('loneliness', 'VBP'), ('one', 'CD'), ('inhabits', 'VBZ'), ('big', 'JJ'), ('city', 'NN'), ('exactly', 'RB'), ('best', 'JJS'), ('place', 'NN'), ('human', 'JJ'), ('relations', 'NNS'), ('find', 'VBP'), ('sincere', 'JJ'), ('fulfillment', 'JJ'), ('one', 'CD'), ('discerns', 'VBZ'), ('case', 'NN'), ('people', 'NNS'), ('encounterthe', 'VBP'), ('acting', 'VBG'), ('good', 'JJ'), ('mr', 'NN'), ('matteis', 'JJ'), ('direction', 'NN'), ('steve', 'VBP'), ('buscemi', 'NN'), ('rosario', 'NN'), ('dawson', 'NN'), ('carol', 'NN'), ('kane', 'NN'), ('michael', 'NN'), ('imperioli', 'VBP'), ('adrian', 'JJ'), ('grenier', 'NN'), ('rest', 'NN'), ('talented', 'VBD'), ('cast', 'NNS'), ('make', 'VBP'), ('characters', 'NNS'), ('come', 'VB'), ('alivewe', 'RB'), ('wish', 'JJ'), ('mr', 'NN'), ('mattei', 'NN'), ('good', 'JJ'), ('luck', 'NN'), ('await', 'VBP'), ('anxiously', 'RB'), ('next', 'JJ'), ('work', 'NN')] \n",
            "\n",
            "[('probably', 'RB'), ('alltime', 'JJ'), ('favorite', 'JJ'), ('movie', 'NN'), ('story', 'NN'), ('selflessness', 'JJ'), ('sacrifice', 'NN'), ('dedication', 'NN'), ('noble', 'JJ'), ('cause', 'NN'), ('preachy', 'NN'), ('boring', 'VBG'), ('never', 'RB'), ('gets', 'VBZ'), ('old', 'JJ'), ('despite', 'IN'), ('seen', 'VBN'), ('times', 'NNS'), ('last', 'JJ'), ('years', 'NNS'), ('paul', 'VBD'), ('lukas', 'JJ'), ('performance', 'NN'), ('brings', 'VBZ'), ('tears', 'NNS'), ('eyes', 'NNS'), ('bette', 'VBP'), ('davis', 'VB'), ('one', 'CD'), ('truly', 'RB'), ('sympathetic', 'JJ'), ('roles', 'NNS'), ('delight', 'VBD'), ('kids', 'NNS'), ('grandma', 'NN'), ('says', 'VBZ'), ('like', 'IN'), ('dressedup', 'NN'), ('midgets', 'NNS'), ('children', 'NNS'), ('makes', 'VBZ'), ('fun', 'NN'), ('watch', 'NN'), ('mothers', 'NNS'), ('slow', 'VBP'), ('awakening', 'VBG'), ('whats', 'NNS'), ('happening', 'VBG'), ('world', 'NN'), ('roof', 'NN'), ('believable', 'JJ'), ('startling', 'VBG'), ('dozen', 'NN'), ('thumbs', 'NNS'), ('theyd', 'VBP'), ('movie', 'NN')] \n",
            "\n",
            "[('sure', 'RB'), ('would', 'MD'), ('like', 'VB'), ('see', 'VB'), ('resurrection', 'NN'), ('dated', 'VBN'), ('seahunt', 'NN'), ('series', 'NN'), ('tech', 'NN'), ('today', 'NN'), ('would', 'MD'), ('bring', 'VB'), ('back', 'RP'), ('kid', 'JJ'), ('excitement', 'NN'), ('mei', 'NN'), ('grew', 'VBD'), ('black', 'JJ'), ('white', 'JJ'), ('tv', 'NN'), ('seahunt', 'NN'), ('gunsmoke', 'VBD'), ('heros', 'JJ'), ('every', 'DT'), ('weekyou', 'JJ'), ('vote', 'NN'), ('comeback', 'VBP'), ('new', 'JJ'), ('sea', 'NN'), ('huntwe', 'NN'), ('need', 'VBP'), ('change', 'NN'), ('pace', 'NN'), ('tv', 'NN'), ('would', 'MD'), ('work', 'VB'), ('world', 'NN'), ('water', 'NN'), ('adventureoh', 'JJ'), ('way', 'NN'), ('thank', 'JJ'), ('outlet', 'NN'), ('like', 'IN'), ('view', 'NN'), ('many', 'JJ'), ('viewpoints', 'NNS'), ('tv', 'VBP'), ('many', 'JJ'), ('moviesso', 'NNS'), ('ole', 'JJ'), ('way', 'NN'), ('believe', 'VBP'), ('ive', 'JJ'), ('got', 'VBD'), ('wan', 'JJ'), ('na', 'NNS'), ('saywould', 'JJ'), ('nice', 'JJ'), ('read', 'NN'), ('plus', 'CC'), ('points', 'NNS'), ('sea', 'NN'), ('huntif', 'NN'), ('rhymes', 'NNS'), ('would', 'MD'), ('lines', 'NNS'), ('would', 'MD'), ('let', 'VB'), ('submitor', 'NN'), ('leave', 'VB'), ('doubt', 'NN'), ('quitif', 'NN'), ('must', 'MD'), ('go', 'VB'), ('lets', 'NNS')] \n",
            "\n",
            "[('show', 'NN'), ('amazing', 'JJ'), ('fresh', 'JJ'), ('innovative', 'JJ'), ('idea', 'NN'), ('first', 'RB'), ('aired', 'VBN'), ('first', 'JJ'), ('years', 'NNS'), ('brilliant', 'JJ'), ('things', 'NNS'), ('dropped', 'VBD'), ('show', 'NN'), ('really', 'RB'), ('funny', 'JJ'), ('anymore', 'RB'), ('continued', 'JJ'), ('decline', 'NN'), ('complete', 'JJ'), ('waste', 'NN'), ('time', 'NN'), ('todayits', 'VBZ'), ('truly', 'RB'), ('disgraceful', 'JJ'), ('far', 'RB'), ('show', 'VBP'), ('fallen', 'VBN'), ('writing', 'VBG'), ('painfully', 'RB'), ('bad', 'JJ'), ('performances', 'NNS'), ('almost', 'RB'), ('bad', 'JJ'), ('mildly', 'RB'), ('entertaining', 'JJ'), ('respite', 'JJ'), ('guesthosts', 'NNS'), ('show', 'VBP'), ('probably', 'RB'), ('wouldnt', 'WP'), ('still', 'RB'), ('air', 'VBP'), ('find', 'VB'), ('hard', 'JJ'), ('believe', 'VBP'), ('creator', 'NN'), ('handselected', 'VBD'), ('original', 'JJ'), ('cast', 'NN'), ('also', 'RB'), ('chose', 'VBD'), ('band', 'NN'), ('hacks', 'NNS'), ('followed', 'VBD'), ('one', 'CD'), ('recognize', 'NN'), ('brilliance', 'NN'), ('see', 'VBP'), ('fit', 'JJ'), ('replace', 'VB'), ('mediocrity', 'NN'), ('felt', 'NN'), ('must', 'MD'), ('give', 'VB'), ('stars', 'NNS'), ('respect', 'VBP'), ('original', 'JJ'), ('cast', 'NN'), ('made', 'VBD'), ('show', 'NN'), ('huge', 'JJ'), ('success', 'NN'), ('show', 'NN'), ('awful', 'JJ'), ('cant', 'NN'), ('believe', 'VBP'), ('still', 'RB'), ('air', 'NN')] \n",
            "\n",
            "[('encouraged', 'VBN'), ('positive', 'JJ'), ('comments', 'NNS'), ('film', 'NN'), ('looking', 'VBG'), ('forward', 'RB'), ('watching', 'VBG'), ('film', 'NN'), ('bad', 'JJ'), ('mistake', 'NN'), ('ive', 'JJ'), ('seen', 'VBN'), ('films', 'NNS'), ('truly', 'RB'), ('one', 'CD'), ('worst', 'JJS'), ('awful', 'JJ'), ('almost', 'RB'), ('every', 'DT'), ('way', 'NN'), ('editing', 'VBG'), ('pacing', 'VBG'), ('storyline', 'NN'), ('acting', 'VBG'), ('soundtrack', 'NN'), ('films', 'NNS'), ('song', 'JJ'), ('lame', 'JJ'), ('country', 'NN'), ('tune', 'VBD'), ('played', 'VBN'), ('less', 'RBR'), ('four', 'CD'), ('times', 'NNS'), ('film', 'NN'), ('looks', 'VBZ'), ('cheap', 'JJ'), ('nasty', 'JJ'), ('boring', 'NN'), ('extreme', 'NN'), ('rarely', 'RB'), ('happy', 'JJ'), ('see', 'VBP'), ('end', 'JJ'), ('credits', 'NNS'), ('film', 'NN'), ('thing', 'NN'), ('prevents', 'NNS'), ('giving', 'VBG'), ('score', 'NN'), ('harvey', 'NN'), ('keitel', 'NN'), ('far', 'RB'), ('best', 'JJS'), ('performance', 'NN'), ('least', 'NN'), ('seems', 'VBZ'), ('making', 'VBG'), ('bit', 'VB'), ('effort', 'NN'), ('one', 'CD'), ('keitel', 'NN'), ('obsessives', 'NNS')] \n",
            "\n",
            "[('like', 'IN'), ('original', 'JJ'), ('gut', 'NN'), ('wrenching', 'VBG'), ('laughter', 'NN'), ('like', 'IN'), ('movie', 'NN'), ('young', 'JJ'), ('old', 'JJ'), ('love', 'NN'), ('movie', 'NN'), ('hell', 'NN'), ('even', 'RB'), ('mom', 'RBR'), ('liked', 'JJ'), ('itgreat', 'NN'), ('camp', 'NN')] \n",
            "\n",
            "##### STEMMING #####\n",
            "\n",
            "['on', 'review', 'ment', 'watch', 'oz', 'episod', 'youl', 'hook', 'right', 'exact', 'hap', 'meth', 'first', 'thing', 'struck', 'oz', 'brut', 'unflinch', 'scen', 'viol', 'set', 'right', 'word', 'go', 'trust', 'show', 'faint', 'heart', 'timid', 'show', 'pul', 'punch', 'regard', 'drug', 'sex', 'viol', 'hardc', 'class', 'us', 'wordit', 'cal', 'oz', 'nicknam', 'giv', 'oswald', 'maxim', 'sec', 'stat', 'penit', 'focus', 'main', 'emerald', 'city', 'expery', 'sect', 'prison', 'cel', 'glass', 'front', 'fac', 'inward', 'priv', 'high', 'agend', 'em', 'city', 'hom', 'many', 'muslim', 'gangsta', 'latino', 'christians', 'it', 'ir', 'moreso', 'scuffl', 'dea', 'star', 'dodgy', 'deal', 'shady', 'agr', 'nev', 'far', 'away', 'would', 'say', 'main', 'ap', 'show', 'due', 'fact', 'goe', 'show', 'wouldnt', 'dar', 'forget', 'pretty', 'pict', 'paint', 'mainstream', 'audy', 'forget', 'charm', 'forget', 'romanceoz', 'doesnt', 'mess', 'around', 'first', 'episod', 'ev', 'saw', 'struck', 'nasty', 'sur', 'couldnt', 'say', 'ready', 'watch', 'develop', 'tast', 'oz', 'got', 'accustom', 'high', 'level', 'graph', 'viol', 'viol', 'injust', 'crook', 'guard', 'whol', 'sold', 'nickel', 'inm', 'whol', 'kil', 'ord', 'get', 'away', 'wel', 'man', 'middl', 'class', 'inm', 'turn', 'prison', 'bitch', 'due', 'lack', 'street', 'skil', 'prison', 'expery', 'watch', 'oz', 'may', 'becom', 'comfort', 'uncomfort', 'viewingth', 'get', 'touch', 'dark', 'sid'] \n",
            "\n",
            "['wond', 'littl', 'produc', 'film', 'techn', 'unassum', 'oldtimebbc', 'fash', 'giv', 'comfort', 'sometim', 'discomfort', 'sens', 'real', 'entir', 'piec', 'act', 'extrem', 'wel', 'chos', 'michael', 'sheen', 'got', 'polar', 'voic', 'pat', 'tru', 'see', 'seamless', 'edit', 'guid', 'ref', 'william', 'diary', 'entry', 'wel', 'wor', 'watch', 'ter', 'writ', 'perform', 'piec', 'mast', 'produc', 'on', 'gre', 'mast', 'comedy', 'lif', 'real', 'real', 'com', 'hom', 'littl', 'thing', 'fantasy', 'guard', 'rath', 'us', 'tradit', 'dream', 'techn', 'remain', 'solid', 'disappear', 'play', 'knowledg', 'sens', 'particul', 'scen', 'concern', 'orton', 'halliwel', 'set', 'particul', 'flat', 'halliwel', 'mur', 'dec', 'every', 'surfac', 'terr', 'wel', 'don'] \n",
            "\n",
            "['thought', 'wond', 'way', 'spend', 'tim', 'hot', 'sum', 'weekend', 'sit', 'air', 'condit', 'the', 'watch', 'lightheart', 'comedy', 'plot', 'simpl', 'dialog', 'witty', 'charact', 'lik', 'ev', 'wel', 'bread', 'suspect', 'ser', 'kil', 'may', 'disappoint', 'real', 'match', 'point', 'risk', 'addict', 'thought', 'proof', 'woody', 'al', 'stil', 'ful', 'control', 'styl', 'many', 'us', 'grown', 'loveth', 'id', 'laugh', 'on', 'woody', 'comedy', 'year', 'dar', 'say', 'decad', 'iv', 'nev', 'impress', 'scarlet', 'johanson', 'man', 'ton', 'sexy', 'im', 'jump', 'right', 'av', 'spirit', 'young', 'womanth', 'may', 'crown', 'jewel', 'car', 'witty', 'devil', 'wear', 'prad', 'interest', 'superm', 'gre', 'comedy', 'go', 'see', 'friend'] \n",
            "\n",
            "['bas', 'ther', 'famy', 'littl', 'boy', 'jak', 'think', 'ther', 'zomby', 'closet', 'par', 'fight', 'timeth', 'movy', 'slow', 'soap', 'oper', 'sud', 'jak', 'decid', 'becom', 'rambo', 'kil', 'zombieok', 'first', 'yo', 'going', 'mak', 'film', 'must', 'decid', 'thriller', 'dram', 'dram', 'movy', 'watch', 'par', 'divorc', 'argu', 'lik', 'real', 'lif', 'jak', 'closet', 'tot', 'ruin', 'film', 'expect', 'see', 'boogeym', 'simil', 'movy', 'instead', 'watch', 'dram', 'meaningless', 'thriller', 'spot', 'wel', 'play', 'par', 'desc', 'dialog', 'shot', 'jak', 'ign'] \n",
            "\n",
            "['pet', 'mat', 'lov', 'tim', 'money', 'vis', 'stun', 'film', 'watch', 'mr', 'matte', 'off', 'us', 'vivid', 'portrait', 'hum', 'rel', 'movy', 'seem', 'tel', 'us', 'money', 'pow', 'success', 'peopl', 'diff', 'situ', 'encount', 'vary', 'arth', 'schnitzlers', 'play', 'them', 'direct', 'transf', 'act', 'pres', 'tim', 'new', 'york', 'diff', 'charact', 'meet', 'connect', 'on', 'connect', 'on', 'way', 'anoth', 'next', 'person', 'on', 'seem', 'know', 'prevy', 'point', 'contact', 'styl', 'film', 'soph', 'luxury', 'look', 'tak', 'see', 'peopl', 'liv', 'world', 'liv', 'habitatth', 'thing', 'on', 'get', 'soul', 'pict', 'diff', 'stag', 'lon', 'on', 'inhabit', 'big', 'city', 'exact', 'best', 'plac', 'hum', 'rel', 'find', 'sint', 'fulfil', 'on', 'discern', 'cas', 'peopl', 'encounterth', 'act', 'good', 'mr', 'mat', 'direct', 'stev', 'buscem', 'rosario', 'dawson', 'carol', 'kan', 'michael', 'imperiol', 'adr', 'greny', 'rest', 'tal', 'cast', 'mak', 'charact', 'com', 'alivew', 'wish', 'mr', 'matte', 'good', 'luck', 'await', 'anxy', 'next', 'work'] \n",
            "\n",
            "['prob', 'alltim', 'favorit', 'movy', 'story', 'selfless', 'sacr', 'ded', 'nobl', 'caus', 'preachy', 'bor', 'nev', 'get', 'old', 'despit', 'seen', 'tim', 'last', 'year', 'paul', 'luka', 'perform', 'bring', 'tear', 'ey', 'bet', 'dav', 'on', 'tru', 'sympathet', 'rol', 'delight', 'kid', 'grandm', 'say', 'lik', 'dressedup', 'midget', 'childr', 'mak', 'fun', 'watch', 'moth', 'slow', 'awak', 'what', 'hap', 'world', 'roof', 'believ', 'startl', 'doz', 'thumb', 'theyd', 'movy'] \n",
            "\n",
            "['sur', 'would', 'lik', 'see', 'resurrect', 'dat', 'seahunt', 'sery', 'tech', 'today', 'would', 'bring', 'back', 'kid', 'excit', 'mei', 'grew', 'black', 'whit', 'tv', 'seahunt', 'gunsmok', 'hero', 'every', 'weekyou', 'vot', 'comeback', 'new', 'sea', 'huntw', 'nee', 'chang', 'pac', 'tv', 'would', 'work', 'world', 'wat', 'adventureoh', 'way', 'thank', 'outlet', 'lik', 'view', 'many', 'viewpoint', 'tv', 'many', 'moviesso', 'ol', 'way', 'believ', 'iv', 'got', 'wan', 'na', 'saywould', 'nic', 'read', 'plu', 'point', 'sea', 'hunt', 'rhym', 'would', 'lin', 'would', 'let', 'submit', 'leav', 'doubt', 'quit', 'must', 'go', 'let'] \n",
            "\n",
            "['show', 'amaz', 'fresh', 'innov', 'ide', 'first', 'air', 'first', 'year', 'bril', 'thing', 'drop', 'show', 'real', 'funny', 'anym', 'continu', 'declin', 'complet', 'wast', 'tim', 'todayit', 'tru', 'disgrac', 'far', 'show', 'fal', 'writ', 'pain', 'bad', 'perform', 'almost', 'bad', 'mild', 'entertain', 'respit', 'guesthost', 'show', 'prob', 'wouldnt', 'stil', 'air', 'find', 'hard', 'believ', 'cre', 'handselect', 'origin', 'cast', 'also', 'chos', 'band', 'hack', 'follow', 'on', 'recogn', 'bril', 'see', 'fit', 'replac', 'mediocr', 'felt', 'must', 'giv', 'star', 'respect', 'origin', 'cast', 'mad', 'show', 'hug', 'success', 'show', 'aw', 'cant', 'believ', 'stil', 'air'] \n",
            "\n",
            "['enco', 'posit', 'com', 'film', 'look', 'forward', 'watch', 'film', 'bad', 'mistak', 'iv', 'seen', 'film', 'tru', 'on', 'worst', 'aw', 'almost', 'every', 'way', 'edit', 'pac', 'storylin', 'act', 'soundtrack', 'film', 'song', 'lam', 'country', 'tun', 'play', 'less', 'four', 'tim', 'film', 'look', 'cheap', 'nasty', 'bor', 'extrem', 'rar', 'happy', 'see', 'end', 'credit', 'film', 'thing', 'prev', 'giv', 'scor', 'harvey', 'keitel', 'far', 'best', 'perform', 'least', 'seem', 'mak', 'bit', 'effort', 'on', 'keitel', 'obsess'] \n",
            "\n",
            "['lik', 'origin', 'gut', 'wrench', 'laught', 'lik', 'movy', 'young', 'old', 'lov', 'movy', 'hel', 'ev', 'mom', 'lik', 'itgr', 'camp'] \n",
            "\n"
          ]
        }
      ]
    },
    {
      "cell_type": "markdown",
      "source": [
        "## b) Verifique quais são as 10 palavras mais frequentes e compare com as 10 palavras mais frequentes da questão anterior."
      ],
      "metadata": {
        "id": "jzRjewsqrmTL"
      }
    },
    {
      "cell_type": "code",
      "source": [
        "most_used_words_without_stopwords = find_10_most_used_words(texts_word_count)\n",
        "\n",
        "print(\"Most used words with stopwords: \\n\", most_used_words)\n",
        "print(\"\\nMost used words without stopwords: \\n\", most_used_words_without_stopwords)"
      ],
      "metadata": {
        "colab": {
          "base_uri": "https://localhost:8080/"
        },
        "id": "RjvoHLAuruit",
        "outputId": "60d198e2-5e1a-47fd-c401-8508478cf694"
      },
      "execution_count": null,
      "outputs": [
        {
          "output_type": "stream",
          "name": "stdout",
          "text": [
            "Most used words with stopwords: \n",
            " [('the', 4529), ('and', 2315), ('a', 2252), ('of', 2087), ('to', 1831), ('is', 1417), ('in', 1242), ('this', 1004), ('i', 982), ('it', 945)]\n",
            "\n",
            "Most used words without stopwords: \n",
            " [('movie', 581), ('film', 519), ('one', 326), ('like', 268), ('even', 177), ('would', 168), ('good', 158), ('really', 157), ('see', 150), ('story', 145)]\n"
          ]
        }
      ]
    },
    {
      "cell_type": "markdown",
      "source": [
        "## c) Repita a letra b) usando os tokens stemizados."
      ],
      "metadata": {
        "id": "O_ByP27YsgWF"
      }
    },
    {
      "cell_type": "code",
      "source": [
        "stems_count = []\n",
        "for stems in texts_stems:\n",
        "  stems_count.append(get_word_count(stems))\n",
        "\n",
        "most_used_stems = find_10_most_used_words(stems_count)\n",
        "print(most_used_stems)"
      ],
      "metadata": {
        "colab": {
          "base_uri": "https://localhost:8080/"
        },
        "id": "siMJZZx7sjij",
        "outputId": "d27e9677-24e7-4c56-833b-f837805f35d2"
      },
      "execution_count": null,
      "outputs": [
        {
          "output_type": "stream",
          "name": "stdout",
          "text": [
            "[('movy', 701), ('film', 633), ('act', 345), ('on', 343), ('lik', 300), ('ev', 288), ('real', 277), ('get', 209), ('charact', 199), ('watch', 195)]\n"
          ]
        }
      ]
    },
    {
      "cell_type": "markdown",
      "source": [
        "## d) Verifique quais são as classes gramaticais mais frequentes."
      ],
      "metadata": {
        "id": "-rH3IEvctb3p"
      }
    },
    {
      "cell_type": "code",
      "source": [
        "def count_tag_occurrences(texts_tags):\n",
        "  tag_count = {}\n",
        "  for text in texts_tags:\n",
        "    for _, tag in text:\n",
        "      if tag in tag_count:\n",
        "        tag_count[tag] += 1\n",
        "        continue\n",
        "      tag_count[tag] = 1\n",
        "  tag_count = sorted(tag_count.items(), key = lambda x:x[1], reverse = True)\n",
        "  return tag_count\n",
        "\n",
        "tag_count = count_tag_occurrences(texts_tags)\n",
        "print(tag_count, \"\\n\")\n",
        "\n",
        "print(\"###### LABELS ######\")\n",
        "nltk.help.upenn_tagset()"
      ],
      "metadata": {
        "colab": {
          "base_uri": "https://localhost:8080/"
        },
        "id": "_UoengXHtfH6",
        "outputId": "51aecea1-4774-427b-aa6b-60df78e7677d"
      },
      "execution_count": null,
      "outputs": [
        {
          "output_type": "stream",
          "name": "stdout",
          "text": [
            "[('NN', 13884), ('JJ', 8357), ('NNS', 4338), ('RB', 3610), ('VBP', 2125), ('VBG', 1846), ('VBD', 1581), ('VBZ', 1196), ('VBN', 1028), ('VB', 1003), ('IN', 836), ('CD', 515), ('MD', 401), ('JJS', 205), ('JJR', 135), ('DT', 122), ('RBR', 121), ('PRP', 82), ('FW', 48), ('RP', 37), ('CC', 35), ('NNP', 32), ('RBS', 16), ('WP$', 16), ('WDT', 15), ('WP', 11), ('WRB', 8), ('TO', 5), ('UH', 4), ('PRP$', 3), (\"''\", 1)] \n",
            "\n",
            "###### LABELS ######\n",
            "$: dollar\n",
            "    $ -$ --$ A$ C$ HK$ M$ NZ$ S$ U.S.$ US$\n",
            "'': closing quotation mark\n",
            "    ' ''\n",
            "(: opening parenthesis\n",
            "    ( [ {\n",
            "): closing parenthesis\n",
            "    ) ] }\n",
            ",: comma\n",
            "    ,\n",
            "--: dash\n",
            "    --\n",
            ".: sentence terminator\n",
            "    . ! ?\n",
            ":: colon or ellipsis\n",
            "    : ; ...\n",
            "CC: conjunction, coordinating\n",
            "    & 'n and both but either et for less minus neither nor or plus so\n",
            "    therefore times v. versus vs. whether yet\n",
            "CD: numeral, cardinal\n",
            "    mid-1890 nine-thirty forty-two one-tenth ten million 0.5 one forty-\n",
            "    seven 1987 twenty '79 zero two 78-degrees eighty-four IX '60s .025\n",
            "    fifteen 271,124 dozen quintillion DM2,000 ...\n",
            "DT: determiner\n",
            "    all an another any both del each either every half la many much nary\n",
            "    neither no some such that the them these this those\n",
            "EX: existential there\n",
            "    there\n",
            "FW: foreign word\n",
            "    gemeinschaft hund ich jeux habeas Haementeria Herr K'ang-si vous\n",
            "    lutihaw alai je jour objets salutaris fille quibusdam pas trop Monte\n",
            "    terram fiche oui corporis ...\n",
            "IN: preposition or conjunction, subordinating\n",
            "    astride among uppon whether out inside pro despite on by throughout\n",
            "    below within for towards near behind atop around if like until below\n",
            "    next into if beside ...\n",
            "JJ: adjective or numeral, ordinal\n",
            "    third ill-mannered pre-war regrettable oiled calamitous first separable\n",
            "    ectoplasmic battery-powered participatory fourth still-to-be-named\n",
            "    multilingual multi-disciplinary ...\n",
            "JJR: adjective, comparative\n",
            "    bleaker braver breezier briefer brighter brisker broader bumper busier\n",
            "    calmer cheaper choosier cleaner clearer closer colder commoner costlier\n",
            "    cozier creamier crunchier cuter ...\n",
            "JJS: adjective, superlative\n",
            "    calmest cheapest choicest classiest cleanest clearest closest commonest\n",
            "    corniest costliest crassest creepiest crudest cutest darkest deadliest\n",
            "    dearest deepest densest dinkiest ...\n",
            "LS: list item marker\n",
            "    A A. B B. C C. D E F First G H I J K One SP-44001 SP-44002 SP-44005\n",
            "    SP-44007 Second Third Three Two * a b c d first five four one six three\n",
            "    two\n",
            "MD: modal auxiliary\n",
            "    can cannot could couldn't dare may might must need ought shall should\n",
            "    shouldn't will would\n",
            "NN: noun, common, singular or mass\n",
            "    common-carrier cabbage knuckle-duster Casino afghan shed thermostat\n",
            "    investment slide humour falloff slick wind hyena override subhumanity\n",
            "    machinist ...\n",
            "NNP: noun, proper, singular\n",
            "    Motown Venneboerger Czestochwa Ranzer Conchita Trumplane Christos\n",
            "    Oceanside Escobar Kreisler Sawyer Cougar Yvette Ervin ODI Darryl CTCA\n",
            "    Shannon A.K.C. Meltex Liverpool ...\n",
            "NNPS: noun, proper, plural\n",
            "    Americans Americas Amharas Amityvilles Amusements Anarcho-Syndicalists\n",
            "    Andalusians Andes Andruses Angels Animals Anthony Antilles Antiques\n",
            "    Apache Apaches Apocrypha ...\n",
            "NNS: noun, common, plural\n",
            "    undergraduates scotches bric-a-brac products bodyguards facets coasts\n",
            "    divestitures storehouses designs clubs fragrances averages\n",
            "    subjectivists apprehensions muses factory-jobs ...\n",
            "PDT: pre-determiner\n",
            "    all both half many quite such sure this\n",
            "POS: genitive marker\n",
            "    ' 's\n",
            "PRP: pronoun, personal\n",
            "    hers herself him himself hisself it itself me myself one oneself ours\n",
            "    ourselves ownself self she thee theirs them themselves they thou thy us\n",
            "PRP$: pronoun, possessive\n",
            "    her his mine my our ours their thy your\n",
            "RB: adverb\n",
            "    occasionally unabatingly maddeningly adventurously professedly\n",
            "    stirringly prominently technologically magisterially predominately\n",
            "    swiftly fiscally pitilessly ...\n",
            "RBR: adverb, comparative\n",
            "    further gloomier grander graver greater grimmer harder harsher\n",
            "    healthier heavier higher however larger later leaner lengthier less-\n",
            "    perfectly lesser lonelier longer louder lower more ...\n",
            "RBS: adverb, superlative\n",
            "    best biggest bluntest earliest farthest first furthest hardest\n",
            "    heartiest highest largest least less most nearest second tightest worst\n",
            "RP: particle\n",
            "    aboard about across along apart around aside at away back before behind\n",
            "    by crop down ever fast for forth from go high i.e. in into just later\n",
            "    low more off on open out over per pie raising start teeth that through\n",
            "    under unto up up-pp upon whole with you\n",
            "SYM: symbol\n",
            "    % & ' '' ''. ) ). * + ,. < = > @ A[fj] U.S U.S.S.R * ** ***\n",
            "TO: \"to\" as preposition or infinitive marker\n",
            "    to\n",
            "UH: interjection\n",
            "    Goodbye Goody Gosh Wow Jeepers Jee-sus Hubba Hey Kee-reist Oops amen\n",
            "    huh howdy uh dammit whammo shucks heck anyways whodunnit honey golly\n",
            "    man baby diddle hush sonuvabitch ...\n",
            "VB: verb, base form\n",
            "    ask assemble assess assign assume atone attention avoid bake balkanize\n",
            "    bank begin behold believe bend benefit bevel beware bless boil bomb\n",
            "    boost brace break bring broil brush build ...\n",
            "VBD: verb, past tense\n",
            "    dipped pleaded swiped regummed soaked tidied convened halted registered\n",
            "    cushioned exacted snubbed strode aimed adopted belied figgered\n",
            "    speculated wore appreciated contemplated ...\n",
            "VBG: verb, present participle or gerund\n",
            "    telegraphing stirring focusing angering judging stalling lactating\n",
            "    hankerin' alleging veering capping approaching traveling besieging\n",
            "    encrypting interrupting erasing wincing ...\n",
            "VBN: verb, past participle\n",
            "    multihulled dilapidated aerosolized chaired languished panelized used\n",
            "    experimented flourished imitated reunifed factored condensed sheared\n",
            "    unsettled primed dubbed desired ...\n",
            "VBP: verb, present tense, not 3rd person singular\n",
            "    predominate wrap resort sue twist spill cure lengthen brush terminate\n",
            "    appear tend stray glisten obtain comprise detest tease attract\n",
            "    emphasize mold postpone sever return wag ...\n",
            "VBZ: verb, present tense, 3rd person singular\n",
            "    bases reconstructs marks mixes displeases seals carps weaves snatches\n",
            "    slumps stretches authorizes smolders pictures emerges stockpiles\n",
            "    seduces fizzes uses bolsters slaps speaks pleads ...\n",
            "WDT: WH-determiner\n",
            "    that what whatever which whichever\n",
            "WP: WH-pronoun\n",
            "    that what whatever whatsoever which who whom whosoever\n",
            "WP$: WH-pronoun, possessive\n",
            "    whose\n",
            "WRB: Wh-adverb\n",
            "    how however whence whenever where whereby whereever wherein whereof why\n",
            "``: opening quotation mark\n",
            "    ` ``\n"
          ]
        }
      ]
    }
  ]
}